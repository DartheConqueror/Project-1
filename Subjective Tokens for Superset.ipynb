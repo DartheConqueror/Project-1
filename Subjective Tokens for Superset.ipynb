{
 "cells": [
  {
   "cell_type": "code",
   "execution_count": 78,
   "metadata": {
    "collapsed": true
   },
   "outputs": [],
   "source": [
    "#Import nessary libraries\n",
    "import pandas as pd\n",
    "from nltk.corpus import stopwords\n",
    "from nltk.stem.porter import *\n",
    "\n",
    "stemmer = PorterStemmer()\n",
    "stopwords = stopwords.words(\"english\")\n"
   ]
  },
  {
   "cell_type": "code",
   "execution_count": 79,
   "metadata": {
    "collapsed": true
   },
   "outputs": [],
   "source": [
    "#Pull data from spread sheets and create variables of each excel sheet\n",
    "xlsx = pd.ExcelFile(r'C:\\Users\\The Law\\Documents\\Applied Data Science Group\\Categorical_1-2-3.xlsx')\n",
    "xlsx2 = pd.ExcelFile(r'C:\\Users\\The Law\\Documents\\Applied Data Science Group\\Real-Val_4-5-6-7.xlsx')\n",
    "OML = pd.read_excel(xlsx, '1-OML')\n",
    "MPQA = pd.read_excel(xlsx, '2-MPQA')\n",
    "EmoLex = pd.read_excel(xlsx, '3-EmoLex')\n",
    "ANEW = pd.read_excel(xlsx2, '4-ANEW')\n",
    "SemLex = pd.read_excel(xlsx2, '5-Sem-Lex')\n",
    "LabMT = pd.read_excel(xlsx2, '6-LabMT')"
   ]
  },
  {
   "cell_type": "code",
   "execution_count": 80,
   "metadata": {
    "collapsed": true
   },
   "outputs": [],
   "source": [
    "#Creates a new dataframe for each variable that consists of only the words column\n",
    "OML_words = OML.iloc[: , 0]\n",
    "MPQA_words = MPQA.iloc[: , 1]\n",
    "EmoLex_words = EmoLex.iloc[: , 0]\n",
    "ANEW_words = ANEW.iloc[: , 0]\n",
    "SemLex_words = SemLex.iloc[:, 1]\n",
    "LabMT_words = LabMT.iloc[:, 0]"
   ]
  },
  {
   "cell_type": "code",
   "execution_count": 81,
   "metadata": {
    "collapsed": true
   },
   "outputs": [],
   "source": [
    "#Combines each dataframe into one dataframe\n",
    "super_set = [OML_words, MPQA_words, EmoLex_words, ANEW_words, SemLex_words, LabMT_words]\n",
    "\n",
    "    \n",
    "super_set = pd.concat(super_set).reset_index(drop = True)"
   ]
  },
  {
   "cell_type": "code",
   "execution_count": 82,
   "metadata": {},
   "outputs": [
    {
     "name": "stdout",
     "output_type": "stream",
     "text": [
      "1584\n",
      "9541\n",
      "9542\n",
      "30148\n"
     ]
    }
   ],
   "source": [
    "#This searches the list for Boolean value, false, and converts it to a string\n",
    "for i in [i for i, x in enumerate(super_set) if x == False]:\n",
    "    print(i)\n",
    "    super_set[i] = str(super_set[i])\n"
   ]
  },
  {
   "cell_type": "code",
   "execution_count": 83,
   "metadata": {},
   "outputs": [
    {
     "name": "stdout",
     "output_type": "stream",
     "text": [
      "14323\n",
      "28098\n"
     ]
    }
   ],
   "source": [
    "#This searches the list for Boolean value, true, and converts it to a string\n",
    "for i in [i for i, x in enumerate(super_set) if x == True]:\n",
    "    print(i)\n",
    "    super_set[i] = str(super_set[i])"
   ]
  },
  {
   "cell_type": "code",
   "execution_count": 84,
   "metadata": {},
   "outputs": [
    {
     "data": {
      "text/plain": [
       "41961"
      ]
     },
     "execution_count": 84,
     "metadata": {},
     "output_type": "execute_result"
    }
   ],
   "source": [
    "#Creates a dataframe of stemmed words\n",
    "d =  []\n",
    "for w in super_set:\n",
    "    d.append(stemmer.stem(w))\n",
    "df_stem = pd.DataFrame(d)\n",
    "df_stem.columns = ['Stemmed Word']\n",
    "len(df_stem)"
   ]
  },
  {
   "cell_type": "code",
   "execution_count": 85,
   "metadata": {},
   "outputs": [
    {
     "data": {
      "text/plain": [
       "17019"
      ]
     },
     "execution_count": 85,
     "metadata": {},
     "output_type": "execute_result"
    }
   ],
   "source": [
    "#Drops duplicates from stemmed dataframe\n",
    "df_stem = df_stem.drop_duplicates()\n",
    "len(df_stem)"
   ]
  },
  {
   "cell_type": "code",
   "execution_count": 86,
   "metadata": {},
   "outputs": [
    {
     "data": {
      "text/plain": [
       "41961"
      ]
     },
     "execution_count": 86,
     "metadata": {},
     "output_type": "execute_result"
    }
   ],
   "source": [
    "#Creates a dataframe of unstemmed words\n",
    "df = pd.DataFrame({'Word' : super_set})\n",
    "len(df)"
   ]
  },
  {
   "cell_type": "code",
   "execution_count": 87,
   "metadata": {},
   "outputs": [
    {
     "data": {
      "text/plain": [
       "24508"
      ]
     },
     "execution_count": 87,
     "metadata": {},
     "output_type": "execute_result"
    }
   ],
   "source": [
    "#Drops duplicates from unstemmed dataframe\n",
    "df2 = df.drop_duplicates()\n",
    "len(df2)"
   ]
  },
  {
   "cell_type": "code",
   "execution_count": 88,
   "metadata": {},
   "outputs": [],
   "source": [
    "#Writes out Datadfames into separate CSVs\n",
    "df_stem.to_csv('df_stem.csv')\n",
    "df2.to_csv('df_not_stemmed.csv')"
   ]
  }
 ],
 "metadata": {
  "kernelspec": {
   "display_name": "Python 3",
   "language": "python",
   "name": "python3"
  },
  "language_info": {
   "codemirror_mode": {
    "name": "ipython",
    "version": 3
   },
   "file_extension": ".py",
   "mimetype": "text/x-python",
   "name": "python",
   "nbconvert_exporter": "python",
   "pygments_lexer": "ipython3",
   "version": "3.6.2"
  }
 },
 "nbformat": 4,
 "nbformat_minor": 2
}
